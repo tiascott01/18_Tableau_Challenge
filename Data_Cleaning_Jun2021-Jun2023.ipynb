{
 "cells": [
  {
   "cell_type": "code",
   "execution_count": 7,
   "metadata": {},
   "outputs": [],
   "source": [
    "## Data Cleaning\n",
    "# Dependencies\n",
    "import pandas as pd\n",
    "from sqlalchemy import create_engine\n",
    "from sqlalchemy.types import String, Float, DateTime\n",
    "import psycopg2\n"
   ]
  },
  {
   "cell_type": "code",
   "execution_count": 8,
   "metadata": {},
   "outputs": [],
   "source": [
    "# Replace the following with your actual PostgreSQL connection details\n",
    "user = 'postgres'\n",
    "password = 'postgres'\n",
    "host = '127.0.0.1'\n",
    "port = '5432'\n",
    "database = 'Module_18_Homework'\n",
    "table_name = 'citi_bike_data_jun'"
   ]
  },
  {
   "cell_type": "code",
   "execution_count": 9,
   "metadata": {},
   "outputs": [],
   "source": [
    "# Create the database engine\n",
    "engine = create_engine(f'postgresql://{user}:{password}@{host}:{port}/{database}')"
   ]
  },
  {
   "cell_type": "code",
   "execution_count": 10,
   "metadata": {},
   "outputs": [],
   "source": [
    "# The CSV file paths\n",
    "csv_files = ['202106-citibike-tripdata.csv', '202206-citbike-tripdata.csv', '202306-citibike-tripdata.csv']"
   ]
  },
  {
   "cell_type": "code",
   "execution_count": 11,
   "metadata": {},
   "outputs": [],
   "source": [
    "# Define the PostgreSQL types for each column\n",
    "column_types = {\n",
    "    'ride_id': String,\n",
    "    'rideable_type': String,\n",
    "    'started_at': DateTime,\n",
    "    'ended_at': DateTime,\n",
    "    'start_station_name': String,\n",
    "    'start_station_id': String,\n",
    "    'end_station_name': String,\n",
    "    'end_station_id': String,\n",
    "    'start_lat': Float,\n",
    "    'start_lng': Float,\n",
    "    'end_lat': Float,\n",
    "    'end_lng': Float,\n",
    "    'member_casual': String\n",
    "}"
   ]
  },
  {
   "cell_type": "code",
   "execution_count": 12,
   "metadata": {},
   "outputs": [
    {
     "name": "stderr",
     "output_type": "stream",
     "text": [
      "C:\\Users\\Haylee\\AppData\\Local\\Temp\\ipykernel_18268\\2297227156.py:4: DtypeWarning: Columns (7) have mixed types. Specify dtype option on import or set low_memory=False.\n",
      "  df = pd.read_csv(csv_file)\n",
      "C:\\Users\\Haylee\\AppData\\Local\\Temp\\ipykernel_18268\\2297227156.py:4: DtypeWarning: Columns (5,7) have mixed types. Specify dtype option on import or set low_memory=False.\n",
      "  df = pd.read_csv(csv_file)\n",
      "C:\\Users\\Haylee\\AppData\\Local\\Temp\\ipykernel_18268\\2297227156.py:4: DtypeWarning: Columns (5,7) have mixed types. Specify dtype option on import or set low_memory=False.\n",
      "  df = pd.read_csv(csv_file)\n"
     ]
    },
    {
     "name": "stdout",
     "output_type": "stream",
     "text": [
      "Data uploaded successfully.\n"
     ]
    }
   ],
   "source": [
    "# Read each CSV file and upload the data to the PostgreSQL table\n",
    "for csv_file in csv_files:\n",
    "    # Read the CSV file into a pandas DataFrame\n",
    "    df = pd.read_csv(csv_file)\n",
    "    # Convert the date columns to datetime objects, letting pandas infer the format\n",
    "    df['started_at'] = pd.to_datetime(df['started_at'])\n",
    "    df['ended_at'] = pd.to_datetime(df['ended_at'])\n",
    "    # Upload the DataFrame to the PostgreSQL table\n",
    "    df.to_sql(table_name, engine, if_exists='append', index=False, dtype=column_types)\n",
    "print(\"Data uploaded successfully.\")"
   ]
  }
 ],
 "metadata": {
  "kernelspec": {
   "display_name": "dev",
   "language": "python",
   "name": "python3"
  },
  "language_info": {
   "codemirror_mode": {
    "name": "ipython",
    "version": 3
   },
   "file_extension": ".py",
   "mimetype": "text/x-python",
   "name": "python",
   "nbconvert_exporter": "python",
   "pygments_lexer": "ipython3",
   "version": "3.10.13"
  }
 },
 "nbformat": 4,
 "nbformat_minor": 2
}
